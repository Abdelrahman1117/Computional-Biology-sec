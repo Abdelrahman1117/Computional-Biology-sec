{
 "cells": [
  {
   "cell_type": "code",
   "execution_count": 4,
   "metadata": {},
   "outputs": [
    {
     "name": "stdout",
     "output_type": "stream",
     "text": [
      "Requirement already satisfied: numpy in c:\\users\\abddo\\anaconda3\\lib\\site-packages (1.19.2)\n",
      "Collecting pyopenms\n",
      "  Downloading pyopenms-2.7.0-cp38-cp38-win_amd64.whl (29.7 MB)\n",
      "Requirement already satisfied: numpy in c:\\users\\abddo\\anaconda3\\lib\\site-packages (from pyopenms) (1.19.2)\n",
      "Installing collected packages: pyopenms\n",
      "Successfully installed pyopenms-2.7.0\n"
     ]
    }
   ],
   "source": [
    "!pip install numpy\n",
    "!pip install pyopenms"
   ]
  },
  {
   "cell_type": "code",
   "execution_count": 2,
   "metadata": {},
   "outputs": [],
   "source": [
    "import pyopenms"
   ]
  },
  {
   "cell_type": "code",
   "execution_count": 3,
   "metadata": {},
   "outputs": [],
   "source": [
    "from pyopenms import *"
   ]
  },
  {
   "cell_type": "code",
   "execution_count": 4,
   "metadata": {},
   "outputs": [
    {
     "name": "stdout",
     "output_type": "stream",
     "text": [
      "Valine\n",
      "117.0789793509\n",
      "Alanine\n",
      "89.0476792233\n",
      "Lysine\n",
      "146.1055284466\n",
      "441.2798662441\n"
     ]
    }
   ],
   "source": [
    "#first we get the name of given onelitter then get the name of amino acid \n",
    "#second calculate the Monoweight \n",
    "#finally ,  we sum in one variable (total mass)\n",
    "\n",
    "V = ResidueDB().getResidue(\"V\")\n",
    "print(V.getName())\n",
    "v_mass = V.getMonoWeight()\n",
    "print(v_mass)\n",
    "\n",
    "\n",
    "A = ResidueDB().getResidue(\"A\")\n",
    "print(A.getName()) \n",
    "a_mass = A.getMonoWeight()\n",
    "print(a_mass)\n",
    "\n",
    "K = ResidueDB().getResidue(\"K\")\n",
    "print(K.getName())\n",
    "k_mass = K.getMonoWeight()\n",
    "print(k_mass) \n"
   ]
  },
  {
   "cell_type": "code",
   "execution_count": 5,
   "metadata": {},
   "outputs": [
    {
     "name": "stdout",
     "output_type": "stream",
     "text": [
      "441.2798662441\n"
     ]
    }
   ],
   "source": [
    "total_mass = v_mass + a_mass + k_mass+ a_mass\n",
    "print(total_mass)"
   ]
  },
  {
   "cell_type": "code",
   "execution_count": 20,
   "metadata": {},
   "outputs": [
    {
     "name": "stdout",
     "output_type": "stream",
     "text": [
      "387.2481710527\n"
     ]
    }
   ],
   "source": [
    "# the mass of all sequence \n",
    "sequence = AASequence.fromString(\"VAKA\") \n",
    "fullmass = sequence.getMonoWeight() \n",
    "print(fullmass)"
   ]
  },
  {
   "cell_type": "markdown",
   "metadata": {},
   "source": [
    "## there are difference between mass(\"VAKA\") and Mass(\"V\") + Mass(\"A\") + Mass(\"K\") + Mass(\"A\") "
   ]
  }
 ],
 "metadata": {
  "kernelspec": {
   "display_name": "Python 3",
   "language": "python",
   "name": "python3"
  },
  "language_info": {
   "codemirror_mode": {
    "name": "ipython",
    "version": 3
   },
   "file_extension": ".py",
   "mimetype": "text/x-python",
   "name": "python",
   "nbconvert_exporter": "python",
   "pygments_lexer": "ipython3",
   "version": "3.8.5"
  }
 },
 "nbformat": 4,
 "nbformat_minor": 4
}
