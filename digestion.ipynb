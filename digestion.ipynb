{
 "cells": [
  {
   "cell_type": "markdown",
   "metadata": {},
   "source": [
    "# Human protein sequence "
   ]
  },
  {
   "cell_type": "code",
   "execution_count": 19,
   "metadata": {},
   "outputs": [
    {
     "name": "stdout",
     "output_type": "stream",
     "text": [
      "ISLLLIQSWLEPVQFLR\n"
     ]
    },
    {
     "data": {
      "text/plain": [
       "22"
      ]
     },
     "execution_count": 19,
     "metadata": {},
     "output_type": "execute_result"
    }
   ],
   "source": [
    "from pyopenms import *\n",
    "from urllib.request import urlretrieve\n",
    "gh = \"https://www.uniprot.org/uniprot/P01241.fasta\"\n",
    "urlretrieve (gh , \"human.fasta\")\n",
    "\n",
    "dig = ProteaseDigestion()\n",
    "dig.getEnzymeName() # Trypsin\n",
    "bsa = \"\".join([l.strip() for l in open(\"human.fasta\").readlines()[1:]])\n",
    "bsa = AASequence.fromString(bsa)\n",
    "# create all digestion products\n",
    "result = []\n",
    "dig.digest(bsa, result)\n",
    "print(result[9].toString())\n",
    "len(result) # 82 peptides"
   ]
  },
  {
   "cell_type": "code",
   "execution_count": 20,
   "metadata": {},
   "outputs": [
    {
     "name": "stdout",
     "output_type": "stream",
     "text": [
      "TSLLLAFGLLCLPWLQEGSAFPTIPLSR\n",
      "LFDNAMLR\n",
      "LHQLAFDTYQEFEEAYIPK\n",
      "YSFLQNPQTSLCFSESIPTPSNR\n",
      "SNLELLR\n",
      "ISLLLIQSWLEPVQFLR\n",
      "SVFANSLVYGASDSNVYDLLK\n",
      "DLEEGIQTLMGR\n",
      "LEDGSPR\n",
      "FDTNSHNDDALLK\n",
      "NYGLLYCFR\n",
      "SVEGSCGF\n"
     ]
    }
   ],
   "source": [
    "# only create peptides of length 7-40\n",
    "dig.digest(bsa, result, 7, 40)\n",
    "# print the results\n",
    "for s in result:\n",
    "    print(s.toString())"
   ]
  },
  {
   "cell_type": "code",
   "execution_count": 21,
   "metadata": {},
   "outputs": [
    {
     "name": "stdout",
     "output_type": "stream",
     "text": [
      "TSLLLAFGLLCLPWLQEGSAFPTIPLSR\n",
      "LFDNAMLR\n",
      "LHQLAFDTYQEFEEAYIPK\n",
      "YSFLQNPQTSLCFSESIPTPSNR\n",
      "SNLELLR\n",
      "ISLLLIQSWLEPVQFLR\n",
      "SVFANSLVYGASDSNVYDLLK\n",
      "DLEEGIQTLMGR\n",
      "LEDGSPR\n",
      "FDTNSHNDDALLK\n",
      "NYGLLYCFR\n",
      "SVEGSCGF\n",
      "MATGSRTSLLLAFGLLCLPWLQEGSAFPTIPLSR\n",
      "TSLLLAFGLLCLPWLQEGSAFPTIPLSRLFDNAMLR\n",
      "LFDNAMLRAHR\n",
      "AHRLHQLAFDTYQEFEEAYIPK\n",
      "LHQLAFDTYQEFEEAYIPKEQK\n",
      "EQKYSFLQNPQTSLCFSESIPTPSNR\n",
      "YSFLQNPQTSLCFSESIPTPSNREETQQK\n",
      "EETQQKSNLELLR\n",
      "SNLELLRISLLLIQSWLEPVQFLR\n",
      "ISLLLIQSWLEPVQFLRSVFANSLVYGASDSNVYDLLK\n",
      "SVFANSLVYGASDSNVYDLLKDLEEGIQTLMGR\n",
      "DLEEGIQTLMGRLEDGSPR\n",
      "LEDGSPRTGQIFK\n",
      "TGQIFKQTYSK\n",
      "QTYSKFDTNSHNDDALLK\n",
      "FDTNSHNDDALLKNYGLLYCFR\n",
      "NYGLLYCFRK\n",
      "DMDKVETFLR\n",
      "VETFLRIVQCR\n",
      "IVQCRSVEGSCGF\n",
      "TSLLLAFGLLCLPWLQEGSAFPTIPLSRLFDNAMLRAHR\n",
      "LFDNAMLRAHRLHQLAFDTYQEFEEAYIPK\n",
      "AHRLHQLAFDTYQEFEEAYIPKEQK\n",
      "EQKYSFLQNPQTSLCFSESIPTPSNREETQQK\n",
      "YSFLQNPQTSLCFSESIPTPSNREETQQKSNLELLR\n",
      "EETQQKSNLELLRISLLLIQSWLEPVQFLR\n",
      "SVFANSLVYGASDSNVYDLLKDLEEGIQTLMGRLEDGSPR\n",
      "DLEEGIQTLMGRLEDGSPRTGQIFK\n",
      "LEDGSPRTGQIFKQTYSK\n",
      "TGQIFKQTYSKFDTNSHNDDALLK\n",
      "QTYSKFDTNSHNDDALLKNYGLLYCFR\n",
      "FDTNSHNDDALLKNYGLLYCFRK\n",
      "NYGLLYCFRKDMDK\n",
      "KDMDKVETFLR\n",
      "DMDKVETFLRIVQCR\n",
      "VETFLRIVQCRSVEGSCGF\n"
     ]
    }
   ],
   "source": [
    "# Allow two missed cleavages\n",
    "dig.setMissedCleavages(2)\n",
    "# only create peptides of length 7-40\n",
    "dig.digest(bsa, result, 7, 40)\n",
    "# print the results\n",
    "for s in result:\n",
    "    print(s.toString())"
   ]
  },
  {
   "cell_type": "markdown",
   "metadata": {},
   "source": [
    "# YEAST protien sequence "
   ]
  },
  {
   "cell_type": "code",
   "execution_count": 22,
   "metadata": {},
   "outputs": [
    {
     "name": "stdout",
     "output_type": "stream",
     "text": [
      "HILR\n"
     ]
    },
    {
     "data": {
      "text/plain": [
       "54"
      ]
     },
     "execution_count": 22,
     "metadata": {},
     "output_type": "execute_result"
    }
   ],
   "source": [
    "from urllib.request import urlretrieve\n",
    "gh = \"https://www.uniprot.org/uniprot/P46672.fasta\"\n",
    "urlretrieve (gh , \"YEAST.fasta\")\n",
    "\n",
    "dig = ProteaseDigestion()\n",
    "dig.getEnzymeName() # Trypsin\n",
    "bsa = \"\".join([l.strip() for l in open(\"YEAST.fasta\").readlines()[1:]])\n",
    "bsa = AASequence.fromString(bsa)\n",
    "# create all digestion products\n",
    "result = []\n",
    "dig.digest(bsa, result)\n",
    "print(result[9].toString())\n",
    "len(result) # 82 peptides"
   ]
  },
  {
   "cell_type": "code",
   "execution_count": 23,
   "metadata": {},
   "outputs": [
    {
     "name": "stdout",
     "output_type": "stream",
     "text": [
      "MSDLVTK\n",
      "FESLIISK\n",
      "YPVSFTK\n",
      "EQSAQAAQWESVLK\n",
      "SGQIQPHLDQLNLVLR\n",
      "DNTFIVSTLYPTSTDVHVFEVALPLIK\n",
      "DLVASSK\n",
      "STYTTYR\n",
      "WIDYMQNLLEVSSTDK\n",
      "LEINHDLDLPHEVIEK\n",
      "APAGGAADAAAK\n",
      "ADEDVSK\n",
      "GKPDEETLK\n",
      "QQQEQQNK\n",
      "APEKPKPSAIDFR\n",
      "HPDADSLYVSTIDVGDEEGPR\n",
      "TVCSGLVK\n",
      "HFPLDAMQER\n",
      "YVVVVCNLKPVNMR\n",
      "STAMVLCGSNDDK\n",
      "VEFVEPPK\n",
      "VFFEGFGDEAPMK\n",
      "IWEHLQPHFTTNDGLEVIFK\n",
      "VASIANAQVR\n"
     ]
    }
   ],
   "source": [
    "# only create peptides of length 7-40\n",
    "dig.digest(bsa, result, 7, 40)\n",
    "# print the results\n",
    "for s in result:\n",
    "    print(s.toString())"
   ]
  },
  {
   "cell_type": "code",
   "execution_count": 24,
   "metadata": {},
   "outputs": [
    {
     "name": "stdout",
     "output_type": "stream",
     "text": [
      "MSDLVTK\n",
      "FESLIISK\n",
      "YPVSFTK\n",
      "EQSAQAAQWESVLK\n",
      "SGQIQPHLDQLNLVLR\n",
      "DNTFIVSTLYPTSTDVHVFEVALPLIK\n",
      "DLVASSK\n",
      "STYTTYR\n",
      "WIDYMQNLLEVSSTDK\n",
      "LEINHDLDLPHEVIEK\n",
      "APAGGAADAAAK\n",
      "ADEDVSK\n",
      "GKPDEETLK\n",
      "QQQEQQNK\n",
      "APEKPKPSAIDFR\n",
      "HPDADSLYVSTIDVGDEEGPR\n",
      "TVCSGLVK\n",
      "HFPLDAMQER\n",
      "YVVVVCNLKPVNMR\n",
      "STAMVLCGSNDDK\n",
      "VEFVEPPK\n",
      "VFFEGFGDEAPMK\n",
      "IWEHLQPHFTTNDGLEVIFK\n",
      "VASIANAQVR\n",
      "MSDLVTKFESLIISK\n",
      "FESLIISKYPVSFTK\n",
      "YPVSFTKEQSAQAAQWESVLK\n",
      "EQSAQAAQWESVLKSGQIQPHLDQLNLVLR\n",
      "DNTFIVSTLYPTSTDVHVFEVALPLIKDLVASSK\n",
      "DLVASSKDVK\n",
      "DVKSTYTTYR\n",
      "STYTTYRHILR\n",
      "HILRWIDYMQNLLEVSSTDK\n",
      "WIDYMQNLLEVSSTDKLEINHDLDLPHEVIEK\n",
      "LEINHDLDLPHEVIEKK\n",
      "KAPAGGAADAAAK\n",
      "APAGGAADAAAKADEDVSK\n",
      "ADEDVSKK\n",
      "QDHPRGKPDEETLK\n",
      "GKPDEETLKK\n",
      "AANAKQQQEQQNK\n",
      "QQQEQQNKAPEKPKPSAIDFR\n",
      "APEKPKPSAIDFRVGFIQK\n",
      "VGFIQKAIK\n",
      "AIKHPDADSLYVSTIDVGDEEGPR\n",
      "HPDADSLYVSTIDVGDEEGPRTVCSGLVK\n",
      "TVCSGLVKHFPLDAMQER\n",
      "HFPLDAMQERYVVVVCNLKPVNMR\n",
      "YVVVVCNLKPVNMRGIK\n",
      "GIKSTAMVLCGSNDDK\n",
      "STAMVLCGSNDDKVEFVEPPK\n",
      "VEFVEPPKDSK\n",
      "DSKAGDK\n",
      "AGDKVFFEGFGDEAPMK\n",
      "VFFEGFGDEAPMKQLNPK\n",
      "KIWEHLQPHFTTNDGLEVIFK\n",
      "IWEHLQPHFTTNDGLEVIFKDEEEK\n",
      "DEEEKDHPVR\n",
      "LTNAKGESFK\n",
      "GESFKVASIANAQVR\n",
      "MSDLVTKFESLIISKYPVSFTK\n",
      "FESLIISKYPVSFTKEQSAQAAQWESVLK\n",
      "YPVSFTKEQSAQAAQWESVLKSGQIQPHLDQLNLVLR\n",
      "DNTFIVSTLYPTSTDVHVFEVALPLIKDLVASSKDVK\n",
      "DLVASSKDVKSTYTTYR\n",
      "DVKSTYTTYRHILR\n",
      "STYTTYRHILRWIDYMQNLLEVSSTDK\n",
      "HILRWIDYMQNLLEVSSTDKLEINHDLDLPHEVIEK\n",
      "WIDYMQNLLEVSSTDKLEINHDLDLPHEVIEKK\n",
      "LEINHDLDLPHEVIEKKK\n",
      "KKAPAGGAADAAAK\n",
      "KAPAGGAADAAAKADEDVSK\n",
      "APAGGAADAAAKADEDVSKK\n",
      "ADEDVSKKAK\n",
      "AKKQDHPR\n",
      "KQDHPRGKPDEETLK\n",
      "QDHPRGKPDEETLKK\n",
      "GKPDEETLKKLR\n",
      "KLREEAK\n",
      "LREEAKAK\n",
      "EEAKAKK\n",
      "AAKKAANAK\n",
      "KAANAKQQQEQQNK\n",
      "AANAKQQQEQQNKAPEKPKPSAIDFR\n",
      "QQQEQQNKAPEKPKPSAIDFRVGFIQK\n",
      "APEKPKPSAIDFRVGFIQKAIK\n",
      "VGFIQKAIKHPDADSLYVSTIDVGDEEGPR\n",
      "AIKHPDADSLYVSTIDVGDEEGPRTVCSGLVK\n",
      "HPDADSLYVSTIDVGDEEGPRTVCSGLVKHFPLDAMQER\n",
      "TVCSGLVKHFPLDAMQERYVVVVCNLKPVNMR\n",
      "HFPLDAMQERYVVVVCNLKPVNMRGIK\n",
      "YVVVVCNLKPVNMRGIKSTAMVLCGSNDDK\n",
      "GIKSTAMVLCGSNDDKVEFVEPPK\n",
      "STAMVLCGSNDDKVEFVEPPKDSK\n",
      "VEFVEPPKDSKAGDK\n",
      "DSKAGDKVFFEGFGDEAPMK\n",
      "AGDKVFFEGFGDEAPMKQLNPK\n",
      "VFFEGFGDEAPMKQLNPKK\n",
      "QLNPKKK\n",
      "KKIWEHLQPHFTTNDGLEVIFK\n",
      "KIWEHLQPHFTTNDGLEVIFKDEEEK\n",
      "IWEHLQPHFTTNDGLEVIFKDEEEKDHPVR\n",
      "DEEEKDHPVRK\n",
      "DHPVRKLTNAK\n",
      "KLTNAKGESFK\n",
      "LTNAKGESFKVASIANAQVR\n"
     ]
    }
   ],
   "source": [
    "# Allow two missed cleavages\n",
    "dig.setMissedCleavages(2)\n",
    "# only create peptides of length 7-40\n",
    "dig.digest(bsa, result, 7, 40)\n",
    "# print the results\n",
    "for s in result:\n",
    "    print(s.toString())"
   ]
  },
  {
   "cell_type": "code",
   "execution_count": null,
   "metadata": {},
   "outputs": [],
   "source": []
  },
  {
   "cell_type": "markdown",
   "metadata": {},
   "source": [
    "# Proteolytic Digestion with Lys-C"
   ]
  },
  {
   "cell_type": "code",
   "execution_count": 11,
   "metadata": {},
   "outputs": [
    {
     "name": "stdout",
     "output_type": "stream",
     "text": [
      "[b'Trypsin', b'Arg-C/P', b'Asp-N/B', b'Asp-N', b'Chymotrypsin', b'Asp-N_ambic', b'Arg-C', b'Trypsin/P', b'cyanogen-bromide', b'V8-E', b'proline endopeptidase', b'CNBr', b'Clostripain/P', b'Formic_acid', b'2-iodobenzoate', b'V8-DE', b'Chymotrypsin/P', b'TrypChymo', b'staphylococcal protease/D', b'Glu-C+P', b'no cleavage', b'unspecific cleavage', b'Lys-N', b'iodosobenzoate', b'proline-endopeptidase/HKR', b'PepsinA + P', b'Lys-C', b'glutamyl endopeptidase', b'elastase-trypsin-chymotrypsin', b'PepsinA', b'Lys-C/P', b'leukocyte elastase', b'Alpha-lytic protease']\n"
     ]
    },
    {
     "data": {
      "text/plain": [
       "'(?<=[KX])(?!P)'"
      ]
     },
     "execution_count": 11,
     "metadata": {},
     "output_type": "execute_result"
    }
   ],
   "source": [
    "names = []\n",
    "ProteaseDB().getAllNames(names)\n",
    "len(names) # at least 25 by default\n",
    "print(names)\n",
    "\n",
    "e = ProteaseDB().getEnzyme('Lys-C')\n",
    "e.getRegExDescription()\n",
    "e.getRegEx()"
   ]
  },
  {
   "cell_type": "code",
   "execution_count": 25,
   "metadata": {},
   "outputs": [
    {
     "name": "stdout",
     "output_type": "stream",
     "text": [
      "DLEEGIQTLMGRLEDGSPRTGQIFK\n"
     ]
    },
    {
     "data": {
      "text/plain": [
       "10"
      ]
     },
     "execution_count": 25,
     "metadata": {},
     "output_type": "execute_result"
    }
   ],
   "source": [
    "from urllib.request import urlretrieve\n",
    "gh = \"https://www.uniprot.org/uniprot/P01241.fasta\"\n",
    "urlretrieve (gh , \"human.fasta\")\n",
    "\n",
    "dig = ProteaseDigestion()\n",
    "dig.setEnzyme('Lys-C')\n",
    "bsa = \"\".join([l.strip() for l in open(\"human.fasta\").readlines()[1:]])\n",
    "bsa = AASequence.fromString(bsa)\n",
    "result = []\n",
    "dig.digest(bsa, result)\n",
    "print(result[4].toString())\n",
    "len(result) # 57 peptides"
   ]
  },
  {
   "cell_type": "code",
   "execution_count": 27,
   "metadata": {},
   "outputs": [
    {
     "name": "stdout",
     "output_type": "stream",
     "text": [
      "SGQIQPHLDQLNLVLRDNTFIVSTLYPTSTDVHVFEVALPLIK\n"
     ]
    },
    {
     "data": {
      "text/plain": [
       "44"
      ]
     },
     "execution_count": 27,
     "metadata": {},
     "output_type": "execute_result"
    }
   ],
   "source": [
    "gh = \"https://www.uniprot.org/uniprot/P46672.fasta\"\n",
    "urlretrieve (gh , \"YEAST.fasta\")\n",
    "\n",
    "dig = ProteaseDigestion()\n",
    "dig.setEnzyme('Lys-C')\n",
    "bsa = \"\".join([l.strip() for l in open(\"YEAST.fasta\").readlines()[1:]])\n",
    "bsa = AASequence.fromString(bsa)\n",
    "result = []\n",
    "dig.digest(bsa, result)\n",
    "print(result[4].toString())\n",
    "len(result) # 57 peptides"
   ]
  },
  {
   "cell_type": "code",
   "execution_count": null,
   "metadata": {},
   "outputs": [],
   "source": []
  },
  {
   "cell_type": "code",
   "execution_count": null,
   "metadata": {},
   "outputs": [],
   "source": []
  }
 ],
 "metadata": {
  "kernelspec": {
   "display_name": "Python 3",
   "language": "python",
   "name": "python3"
  },
  "language_info": {
   "codemirror_mode": {
    "name": "ipython",
    "version": 3
   },
   "file_extension": ".py",
   "mimetype": "text/x-python",
   "name": "python",
   "nbconvert_exporter": "python",
   "pygments_lexer": "ipython3",
   "version": "3.8.5"
  }
 },
 "nbformat": 4,
 "nbformat_minor": 4
}
